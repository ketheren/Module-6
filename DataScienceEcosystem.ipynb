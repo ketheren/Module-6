{
 "cells": [
  {
   "cell_type": "markdown",
   "id": "d5ed42cc-8f08-4790-8be8-e5dc25709ccf",
   "metadata": {},
   "source": [
    "# Data Science Tools and Ecosystem"
   ]
  },
  {
   "cell_type": "markdown",
   "id": "56ae4f72-a190-4704-8eaf-d2b6f7e4e583",
   "metadata": {},
   "source": [
    "In this notebook, Data Science Tools and Ecosystem are summarized."
   ]
  },
  {
   "cell_type": "markdown",
   "id": "54166628-4efe-487b-8e10-e98f180ce1a9",
   "metadata": {},
   "source": [
    "**Objectives:**\n",
    "* List popular languages for Data Science\n",
    "* List commonly used libraries in Data Science\n",
    "* List a few examples of Data Science Tools\n",
    "* Examples of evaluating arithmentic expressions in Python"
   ]
  },
  {
   "cell_type": "markdown",
   "id": "04389362-e250-4053-83fe-7a4de89edd0b",
   "metadata": {},
   "source": [
    "Some of the popular languages that Data Scientists use are:\n",
    "1. Python\n",
    "2. R\n",
    "3. SQL"
   ]
  },
  {
   "cell_type": "markdown",
   "id": "6162b77e-5c52-4b78-9168-8eccbf204a46",
   "metadata": {},
   "source": [
    "Some of the commonly used libraries used by Data Scientists include:\n",
    "1. NumPy\n",
    "2. Pandas\n",
    "3. SciPy\n",
    "4. Matplotlib\n"
   ]
  },
  {
   "cell_type": "markdown",
   "id": "74b68b28-8054-459b-b5c8-29b6bbe89282",
   "metadata": {},
   "source": [
    "| Data Science Tools |\n",
    "|------------------- |\n",
    "| VS Code |\n",
    "| TensorFlow Lite |\n",
    "| Theia |"
   ]
  },
  {
   "cell_type": "markdown",
   "id": "3e35ef04-aed6-4cee-8bb8-c9861f3e7ecb",
   "metadata": {},
   "source": [
    "### Below are a few examples of evaluating arithmetic expressions in Python"
   ]
  },
  {
   "cell_type": "code",
   "execution_count": 3,
   "id": "e743ad48-04f7-4c5f-a01d-7c9fa9c4b2b8",
   "metadata": {},
   "outputs": [
    {
     "name": "stdout",
     "output_type": "stream",
     "text": [
      "17\n"
     ]
    }
   ],
   "source": [
    "# This is a simple arithmetic expression to multiply then add integers\n",
    "print((3*4)+5)"
   ]
  },
  {
   "cell_type": "code",
   "execution_count": 4,
   "id": "5b7bd8ff-ff75-4545-9289-238f35b90861",
   "metadata": {},
   "outputs": [
    {
     "name": "stdout",
     "output_type": "stream",
     "text": [
      "17\n"
     ]
    }
   ],
   "source": [
    "# This is a simple arithmetic expression to multiply then add integers.\n",
    "result = (3 * 4) + 5\n",
    "print(result)"
   ]
  },
  {
   "cell_type": "code",
   "execution_count": 5,
   "id": "c09059b3-4e8e-49d0-b4ed-8ae379316c35",
   "metadata": {},
   "outputs": [
    {
     "data": {
      "text/plain": [
       "3.3333333333333335"
      ]
     },
     "execution_count": 5,
     "metadata": {},
     "output_type": "execute_result"
    }
   ],
   "source": [
    "# This will convert 200 minutes to hours by dividing by 60.\n",
    "200 / 60"
   ]
  },
  {
   "cell_type": "code",
   "execution_count": 6,
   "id": "cbd8115f-9f57-4a20-8433-27e470d926dc",
   "metadata": {},
   "outputs": [
    {
     "name": "stdout",
     "output_type": "stream",
     "text": [
      "3.3333333333333335\n"
     ]
    }
   ],
   "source": [
    "# This will convert 200 minutes to hours by dividing by 60.\n",
    "result = 200 / 60\n",
    "print(result)"
   ]
  },
  {
   "cell_type": "markdown",
   "id": "c9f18061-680c-41c4-aa47-88f3f321ef96",
   "metadata": {},
   "source": [
    "## Author\n",
    "Ketheren Thorn"
   ]
  },
  {
   "cell_type": "code",
   "execution_count": null,
   "id": "4c6f8a73-0887-4259-a623-a4b5010ef58f",
   "metadata": {},
   "outputs": [],
   "source": []
  }
 ],
 "metadata": {
  "kernelspec": {
   "display_name": "Python 3 (ipykernel)",
   "language": "python",
   "name": "python3"
  },
  "language_info": {
   "codemirror_mode": {
    "name": "ipython",
    "version": 3
   },
   "file_extension": ".py",
   "mimetype": "text/x-python",
   "name": "python",
   "nbconvert_exporter": "python",
   "pygments_lexer": "ipython3",
   "version": "3.12.8"
  }
 },
 "nbformat": 4,
 "nbformat_minor": 5
}
